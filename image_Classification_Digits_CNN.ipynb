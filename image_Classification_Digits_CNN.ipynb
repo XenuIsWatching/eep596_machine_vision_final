{
 "cells": [
  {
   "cell_type": "markdown",
   "metadata": {},
   "source": [
    "# Image classification from MNIST dataset using CNN"
   ]
  },
  {
   "cell_type": "code",
   "execution_count": 10,
   "metadata": {},
   "outputs": [
    {
     "data": {
      "text/plain": [
       "<torch._C.Generator at 0x29f4ec1c6d0>"
      ]
     },
     "execution_count": 10,
     "metadata": {},
     "output_type": "execute_result"
    }
   ],
   "source": [
    "import torch\n",
    "from torch.autograd import Variable\n",
    "import torchvision.datasets as dsets\n",
    "import torchvision.transforms as transforms\n",
    "import torch.nn.init\n",
    "import matplotlib.pyplot as plt\n",
    "import numpy as np\n",
    "\n",
    "torch.manual_seed(777)  # reproducibility"
   ]
  },
  {
   "cell_type": "code",
   "execution_count": 2,
   "metadata": {},
   "outputs": [],
   "source": [
    "# hyper-parameters\n",
    "batch_size = 32\n",
    "keep_prob = 1 # 0.7"
   ]
  },
  {
   "cell_type": "code",
   "execution_count": 3,
   "metadata": {},
   "outputs": [],
   "source": [
    "# MNIST dataset\n",
    "mnist_train = dsets.MNIST(root='MNIST_data/',\n",
    "                          train=True,\n",
    "                          transform=transforms.ToTensor(),\n",
    "                          download=True)\n",
    "\n",
    "mnist_test = dsets.MNIST(root='MNIST_data/',\n",
    "                         train=False,\n",
    "                         transform=transforms.ToTensor(),\n",
    "                         download=True)\n",
    "\n",
    "# dataset loader\n",
    "data_loader = torch.utils.data.DataLoader(dataset=mnist_train,\n",
    "                                          batch_size=batch_size,\n",
    "                                          shuffle=True)"
   ]
  },
  {
   "cell_type": "code",
   "execution_count": 4,
   "metadata": {},
   "outputs": [
    {
     "name": "stdout",
     "output_type": "stream",
     "text": [
      "The training dataset:\t Dataset MNIST\n",
      "    Number of datapoints: 60000\n",
      "    Split: train\n",
      "    Root Location: MNIST_data/\n",
      "    Transforms (if any): ToTensor()\n",
      "    Target Transforms (if any): None\n",
      "\n",
      "The testing dataset:\t Dataset MNIST\n",
      "    Number of datapoints: 10000\n",
      "    Split: test\n",
      "    Root Location: MNIST_data/\n",
      "    Transforms (if any): ToTensor()\n",
      "    Target Transforms (if any): None\n"
     ]
    }
   ],
   "source": [
    "# Display informations about the dataset\n",
    "print('The training dataset:\\t',mnist_train)\n",
    "print('\\nThe testing dataset:\\t',mnist_test)"
   ]
  },
  {
   "cell_type": "code",
   "execution_count": 5,
   "metadata": {},
   "outputs": [
    {
     "name": "stderr",
     "output_type": "stream",
     "text": [
      "C:\\Users\\B\\Anaconda3\\lib\\site-packages\\ipykernel_launcher.py:34: UserWarning: nn.init.xavier_uniform is now deprecated in favor of nn.init.xavier_uniform_.\n"
     ]
    },
    {
     "data": {
      "text/plain": [
       "CNN(\n",
       "  (layer1): Sequential(\n",
       "    (0): Conv2d(1, 32, kernel_size=(3, 3), stride=(1, 1), padding=(1, 1))\n",
       "    (1): ReLU()\n",
       "    (2): MaxPool2d(kernel_size=2, stride=2, padding=0, dilation=1, ceil_mode=False)\n",
       "    (3): Dropout(p=0)\n",
       "  )\n",
       "  (layer2): Sequential(\n",
       "    (0): Conv2d(32, 64, kernel_size=(3, 3), stride=(1, 1), padding=(1, 1))\n",
       "    (1): ReLU()\n",
       "    (2): MaxPool2d(kernel_size=2, stride=2, padding=0, dilation=1, ceil_mode=False)\n",
       "    (3): Dropout(p=0)\n",
       "  )\n",
       "  (layer3): Sequential(\n",
       "    (0): Conv2d(64, 128, kernel_size=(3, 3), stride=(1, 1), padding=(1, 1))\n",
       "    (1): ReLU()\n",
       "    (2): MaxPool2d(kernel_size=2, stride=2, padding=1, dilation=1, ceil_mode=False)\n",
       "    (3): Dropout(p=0)\n",
       "  )\n",
       "  (fc1): Linear(in_features=2048, out_features=625, bias=True)\n",
       "  (layer4): Sequential(\n",
       "    (0): Linear(in_features=2048, out_features=625, bias=True)\n",
       "    (1): ReLU()\n",
       "    (2): Dropout(p=0)\n",
       "  )\n",
       "  (fc2): Linear(in_features=625, out_features=10, bias=True)\n",
       ")"
      ]
     },
     "execution_count": 5,
     "metadata": {},
     "output_type": "execute_result"
    }
   ],
   "source": [
    "# Implementation of CNN/ConvNet Model using PyTorch (depicted in the picture above)\n",
    "\n",
    "class CNN(torch.nn.Module):\n",
    "\n",
    "    def __init__(self):\n",
    "        super(CNN, self).__init__()\n",
    "        # L1 ImgIn shape=(?, 28, 28, 1)\n",
    "        #    Conv     -> (?, 28, 28, 32)\n",
    "        #    Pool     -> (?, 14, 14, 32)\n",
    "        self.layer1 = torch.nn.Sequential(\n",
    "            torch.nn.Conv2d(1, 32, kernel_size=3, stride=1, padding=1),\n",
    "            torch.nn.ReLU(),\n",
    "            torch.nn.MaxPool2d(kernel_size=2, stride=2),\n",
    "            torch.nn.Dropout(p=1 - keep_prob))\n",
    "        # L2 ImgIn shape=(?, 14, 14, 32)\n",
    "        #    Conv      ->(?, 14, 14, 64)\n",
    "        #    Pool      ->(?, 7, 7, 64)\n",
    "        self.layer2 = torch.nn.Sequential(\n",
    "            torch.nn.Conv2d(32, 64, kernel_size=3, stride=1, padding=1),\n",
    "            torch.nn.ReLU(),\n",
    "            torch.nn.MaxPool2d(kernel_size=2, stride=2),\n",
    "            torch.nn.Dropout(p=1 - keep_prob))\n",
    "        # L3 ImgIn shape=(?, 7, 7, 64)\n",
    "        #    Conv      ->(?, 7, 7, 128)\n",
    "        #    Pool      ->(?, 4, 4, 128)\n",
    "        self.layer3 = torch.nn.Sequential(\n",
    "            torch.nn.Conv2d(64, 128, kernel_size=3, stride=1, padding=1),\n",
    "            torch.nn.ReLU(),\n",
    "            torch.nn.MaxPool2d(kernel_size=2, stride=2, padding=1),\n",
    "            torch.nn.Dropout(p=1 - keep_prob))\n",
    "\n",
    "        # L4 FC 4x4x128 inputs -> 625 outputs\n",
    "        self.fc1 = torch.nn.Linear(4 * 4 * 128, 625, bias=True)\n",
    "        torch.nn.init.xavier_uniform(self.fc1.weight)\n",
    "        self.layer4 = torch.nn.Sequential(\n",
    "            self.fc1,\n",
    "            torch.nn.ReLU(),\n",
    "            torch.nn.Dropout(p=1 - keep_prob))\n",
    "        # L5 Final FC 625 inputs -> 10 outputs\n",
    "        self.fc2 = torch.nn.Linear(625, 10, bias=True)\n",
    "        torch.nn.init.xavier_uniform_(self.fc2.weight) # initialize parameters\n",
    "\n",
    "    def forward(self, x):\n",
    "        out = self.layer1(x)\n",
    "        out = self.layer2(out)\n",
    "        out = self.layer3(out)\n",
    "        out = out.view(out.size(0), -1)   # Flatten them for FC\n",
    "        out = self.fc1(out)\n",
    "        out = self.fc2(out)\n",
    "        return out\n",
    "\n",
    "\n",
    "# instantiate CNN model\n",
    "model = CNN()\n",
    "model"
   ]
  },
  {
   "cell_type": "code",
   "execution_count": 6,
   "metadata": {},
   "outputs": [
    {
     "name": "stdout",
     "output_type": "stream",
     "text": [
      "torch.Size([32, 1, 3, 3])\n",
      "torch.Size([32])\n",
      "torch.Size([64, 32, 3, 3])\n",
      "torch.Size([64])\n",
      "torch.Size([128, 64, 3, 3])\n",
      "torch.Size([128])\n",
      "torch.Size([625, 2048])\n",
      "torch.Size([625])\n",
      "torch.Size([10, 625])\n",
      "torch.Size([10])\n"
     ]
    }
   ],
   "source": [
    "for param in model.parameters():\n",
    "    print(param.size())"
   ]
  },
  {
   "cell_type": "code",
   "execution_count": 7,
   "metadata": {},
   "outputs": [],
   "source": [
    "learning_rate = 0.001\n",
    "criterion = torch.nn.CrossEntropyLoss()    # Softmax is internally computed.\n",
    "optimizer = torch.optim.Adam(params=model.parameters(), lr=learning_rate)"
   ]
  },
  {
   "cell_type": "code",
   "execution_count": 8,
   "metadata": {
    "scrolled": true
   },
   "outputs": [
    {
     "name": "stdout",
     "output_type": "stream",
     "text": [
      "Training the Deep Learning network ...\n",
      "Size of the training dataset is torch.Size([60000, 28, 28])\n",
      "Size of the testing dataset is torch.Size([10000, 28, 28])\n",
      "Batch size is : 32\n",
      "Total number of batches is : 1875\n",
      "\n",
      "Total number of epochs is : 15\n",
      "Epoch= 1,\t batch = 0,\t cost = 2.3377,\t accuracy = 0.0625\n",
      "Epoch= 1,\t batch = 200,\t cost = 0.3542,\t accuracy = 0.875\n",
      "Epoch= 1,\t batch = 400,\t cost = 0.0229,\t accuracy = 1.0\n",
      "Epoch= 1,\t batch = 600,\t cost = 0.1765,\t accuracy = 0.9375\n",
      "Epoch= 1,\t batch = 800,\t cost = 0.1133,\t accuracy = 0.96875\n",
      "Epoch= 1,\t batch = 1000,\t cost = 0.0891,\t accuracy = 0.96875\n",
      "Epoch= 1,\t batch = 1200,\t cost = 0.0815,\t accuracy = 0.96875\n",
      "Epoch= 1,\t batch = 1400,\t cost = 0.0166,\t accuracy = 1.0\n",
      "Epoch= 1,\t batch = 1600,\t cost = 0.0871,\t accuracy = 0.96875\n",
      "Epoch= 1,\t batch = 1800,\t cost = 0.0206,\t accuracy = 1.0\n",
      "[Epoch:    1], averaged cost = 0.125057846\n",
      "Epoch= 2,\t batch = 0,\t cost = 0.1577,\t accuracy = 0.875\n",
      "Epoch= 2,\t batch = 200,\t cost = 0.0552,\t accuracy = 0.96875\n",
      "Epoch= 2,\t batch = 400,\t cost = 0.0054,\t accuracy = 1.0\n",
      "Epoch= 2,\t batch = 600,\t cost = 0.0754,\t accuracy = 0.96875\n",
      "Epoch= 2,\t batch = 800,\t cost = 0.0344,\t accuracy = 0.96875\n",
      "Epoch= 2,\t batch = 1000,\t cost = 0.1220,\t accuracy = 0.9375\n",
      "Epoch= 2,\t batch = 1200,\t cost = 0.1258,\t accuracy = 0.9375\n",
      "Epoch= 2,\t batch = 1400,\t cost = 0.0210,\t accuracy = 1.0\n",
      "Epoch= 2,\t batch = 1600,\t cost = 0.0009,\t accuracy = 1.0\n",
      "Epoch= 2,\t batch = 1800,\t cost = 0.0155,\t accuracy = 1.0\n",
      "[Epoch:    2], averaged cost = 0.0445349813\n",
      "Epoch= 3,\t batch = 0,\t cost = 0.0000,\t accuracy = 1.0\n",
      "Epoch= 3,\t batch = 200,\t cost = 0.0003,\t accuracy = 1.0\n",
      "Epoch= 3,\t batch = 400,\t cost = 0.0008,\t accuracy = 1.0\n",
      "Epoch= 3,\t batch = 600,\t cost = 0.0041,\t accuracy = 1.0\n",
      "Epoch= 3,\t batch = 800,\t cost = 0.0077,\t accuracy = 1.0\n",
      "Epoch= 3,\t batch = 1000,\t cost = 0.0842,\t accuracy = 0.96875\n",
      "Epoch= 3,\t batch = 1200,\t cost = 0.0129,\t accuracy = 1.0\n",
      "Epoch= 3,\t batch = 1400,\t cost = 0.0038,\t accuracy = 1.0\n",
      "Epoch= 3,\t batch = 1600,\t cost = 0.0668,\t accuracy = 0.96875\n",
      "Epoch= 3,\t batch = 1800,\t cost = 0.0158,\t accuracy = 1.0\n",
      "[Epoch:    3], averaged cost = 0.0345259309\n",
      "Epoch= 4,\t batch = 0,\t cost = 0.0002,\t accuracy = 1.0\n",
      "Epoch= 4,\t batch = 200,\t cost = 0.0000,\t accuracy = 1.0\n",
      "Epoch= 4,\t batch = 400,\t cost = 0.0710,\t accuracy = 0.9375\n",
      "Epoch= 4,\t batch = 600,\t cost = 0.0237,\t accuracy = 1.0\n",
      "Epoch= 4,\t batch = 800,\t cost = 0.0023,\t accuracy = 1.0\n",
      "Epoch= 4,\t batch = 1000,\t cost = 0.0144,\t accuracy = 1.0\n",
      "Epoch= 4,\t batch = 1200,\t cost = 0.0447,\t accuracy = 0.96875\n",
      "Epoch= 4,\t batch = 1400,\t cost = 0.1493,\t accuracy = 0.96875\n",
      "Epoch= 4,\t batch = 1600,\t cost = 0.0018,\t accuracy = 1.0\n",
      "Epoch= 4,\t batch = 1800,\t cost = 0.0545,\t accuracy = 0.96875\n",
      "[Epoch:    4], averaged cost = 0.0282706209\n",
      "Epoch= 5,\t batch = 0,\t cost = 0.0088,\t accuracy = 1.0\n",
      "Epoch= 5,\t batch = 200,\t cost = 0.0152,\t accuracy = 1.0\n",
      "Epoch= 5,\t batch = 400,\t cost = 0.0001,\t accuracy = 1.0\n",
      "Epoch= 5,\t batch = 600,\t cost = 0.0031,\t accuracy = 1.0\n",
      "Epoch= 5,\t batch = 800,\t cost = 0.1168,\t accuracy = 0.96875\n",
      "Epoch= 5,\t batch = 1000,\t cost = 0.0175,\t accuracy = 1.0\n",
      "Epoch= 5,\t batch = 1200,\t cost = 0.0345,\t accuracy = 1.0\n",
      "Epoch= 5,\t batch = 1400,\t cost = 0.0016,\t accuracy = 1.0\n",
      "Epoch= 5,\t batch = 1600,\t cost = 0.0031,\t accuracy = 1.0\n",
      "Epoch= 5,\t batch = 1800,\t cost = 0.0010,\t accuracy = 1.0\n",
      "[Epoch:    5], averaged cost = 0.0218754094\n",
      "Epoch= 6,\t batch = 0,\t cost = 0.0001,\t accuracy = 1.0\n",
      "Epoch= 6,\t batch = 200,\t cost = 0.0307,\t accuracy = 0.96875\n",
      "Epoch= 6,\t batch = 400,\t cost = 0.0002,\t accuracy = 1.0\n",
      "Epoch= 6,\t batch = 600,\t cost = 0.0000,\t accuracy = 1.0\n",
      "Epoch= 6,\t batch = 800,\t cost = 0.0004,\t accuracy = 1.0\n",
      "Epoch= 6,\t batch = 1000,\t cost = 0.0009,\t accuracy = 1.0\n",
      "Epoch= 6,\t batch = 1200,\t cost = 0.0001,\t accuracy = 1.0\n",
      "Epoch= 6,\t batch = 1400,\t cost = 0.1664,\t accuracy = 0.9375\n",
      "Epoch= 6,\t batch = 1600,\t cost = 0.0001,\t accuracy = 1.0\n",
      "Epoch= 6,\t batch = 1800,\t cost = 0.0342,\t accuracy = 0.96875\n",
      "[Epoch:    6], averaged cost = 0.02078088\n",
      "Epoch= 7,\t batch = 0,\t cost = 0.0005,\t accuracy = 1.0\n",
      "Epoch= 7,\t batch = 200,\t cost = 0.0029,\t accuracy = 1.0\n",
      "Epoch= 7,\t batch = 400,\t cost = 0.0006,\t accuracy = 1.0\n",
      "Epoch= 7,\t batch = 600,\t cost = 0.0005,\t accuracy = 1.0\n",
      "Epoch= 7,\t batch = 800,\t cost = 0.0002,\t accuracy = 1.0\n",
      "Epoch= 7,\t batch = 1000,\t cost = 0.0138,\t accuracy = 1.0\n",
      "Epoch= 7,\t batch = 1200,\t cost = 0.0000,\t accuracy = 1.0\n",
      "Epoch= 7,\t batch = 1400,\t cost = 0.0006,\t accuracy = 1.0\n",
      "Epoch= 7,\t batch = 1600,\t cost = 0.0010,\t accuracy = 1.0\n",
      "Epoch= 7,\t batch = 1800,\t cost = 0.0013,\t accuracy = 1.0\n",
      "[Epoch:    7], averaged cost = 0.0164318569\n",
      "Epoch= 8,\t batch = 0,\t cost = 0.0018,\t accuracy = 1.0\n",
      "Epoch= 8,\t batch = 200,\t cost = 0.0079,\t accuracy = 1.0\n",
      "Epoch= 8,\t batch = 400,\t cost = 0.0003,\t accuracy = 1.0\n",
      "Epoch= 8,\t batch = 600,\t cost = 0.0001,\t accuracy = 1.0\n",
      "Epoch= 8,\t batch = 800,\t cost = 0.0000,\t accuracy = 1.0\n",
      "Epoch= 8,\t batch = 1000,\t cost = 0.0085,\t accuracy = 1.0\n",
      "Epoch= 8,\t batch = 1200,\t cost = 0.0001,\t accuracy = 1.0\n",
      "Epoch= 8,\t batch = 1400,\t cost = 0.0210,\t accuracy = 1.0\n",
      "Epoch= 8,\t batch = 1600,\t cost = 0.0001,\t accuracy = 1.0\n",
      "Epoch= 8,\t batch = 1800,\t cost = 0.0006,\t accuracy = 1.0\n",
      "[Epoch:    8], averaged cost = 0.0167770982\n",
      "Epoch= 9,\t batch = 0,\t cost = 0.0114,\t accuracy = 1.0\n",
      "Epoch= 9,\t batch = 200,\t cost = 0.0001,\t accuracy = 1.0\n",
      "Epoch= 9,\t batch = 400,\t cost = 0.0007,\t accuracy = 1.0\n",
      "Epoch= 9,\t batch = 600,\t cost = 0.0014,\t accuracy = 1.0\n",
      "Epoch= 9,\t batch = 800,\t cost = 0.0000,\t accuracy = 1.0\n",
      "Epoch= 9,\t batch = 1000,\t cost = 0.0014,\t accuracy = 1.0\n",
      "Epoch= 9,\t batch = 1200,\t cost = 0.0083,\t accuracy = 1.0\n",
      "Epoch= 9,\t batch = 1400,\t cost = 0.0001,\t accuracy = 1.0\n",
      "Epoch= 9,\t batch = 1600,\t cost = 0.0107,\t accuracy = 1.0\n",
      "Epoch= 9,\t batch = 1800,\t cost = 0.0000,\t accuracy = 1.0\n",
      "[Epoch:    9], averaged cost = 0.0138380965\n",
      "Epoch= 10,\t batch = 0,\t cost = 0.0000,\t accuracy = 1.0\n",
      "Epoch= 10,\t batch = 200,\t cost = 0.1077,\t accuracy = 0.96875\n",
      "Epoch= 10,\t batch = 400,\t cost = 0.0000,\t accuracy = 1.0\n",
      "Epoch= 10,\t batch = 600,\t cost = 0.0005,\t accuracy = 1.0\n",
      "Epoch= 10,\t batch = 800,\t cost = 0.0000,\t accuracy = 1.0\n",
      "Epoch= 10,\t batch = 1000,\t cost = 0.0000,\t accuracy = 1.0\n",
      "Epoch= 10,\t batch = 1200,\t cost = 0.0506,\t accuracy = 0.96875\n",
      "Epoch= 10,\t batch = 1400,\t cost = 0.0000,\t accuracy = 1.0\n",
      "Epoch= 10,\t batch = 1600,\t cost = 0.0099,\t accuracy = 1.0\n",
      "Epoch= 10,\t batch = 1800,\t cost = 0.0002,\t accuracy = 1.0\n",
      "[Epoch:   10], averaged cost = 0.014851274\n",
      "Epoch= 11,\t batch = 0,\t cost = 0.0019,\t accuracy = 1.0\n",
      "Epoch= 11,\t batch = 200,\t cost = 0.0007,\t accuracy = 1.0\n",
      "Epoch= 11,\t batch = 400,\t cost = 0.0001,\t accuracy = 1.0\n",
      "Epoch= 11,\t batch = 600,\t cost = 0.0161,\t accuracy = 1.0\n",
      "Epoch= 11,\t batch = 800,\t cost = 0.0000,\t accuracy = 1.0\n",
      "Epoch= 11,\t batch = 1000,\t cost = 0.0109,\t accuracy = 1.0\n",
      "Epoch= 11,\t batch = 1200,\t cost = 0.0000,\t accuracy = 1.0\n",
      "Epoch= 11,\t batch = 1400,\t cost = 0.1672,\t accuracy = 0.9375\n",
      "Epoch= 11,\t batch = 1600,\t cost = 0.0007,\t accuracy = 1.0\n",
      "Epoch= 11,\t batch = 1800,\t cost = 0.0014,\t accuracy = 1.0\n",
      "[Epoch:   11], averaged cost = 0.0138218617\n",
      "Epoch= 12,\t batch = 0,\t cost = 0.0752,\t accuracy = 0.96875\n",
      "Epoch= 12,\t batch = 200,\t cost = 0.0011,\t accuracy = 1.0\n",
      "Epoch= 12,\t batch = 400,\t cost = 0.0000,\t accuracy = 1.0\n",
      "Epoch= 12,\t batch = 600,\t cost = 0.0003,\t accuracy = 1.0\n",
      "Epoch= 12,\t batch = 800,\t cost = 0.0000,\t accuracy = 1.0\n",
      "Epoch= 12,\t batch = 1000,\t cost = 0.0000,\t accuracy = 1.0\n",
      "Epoch= 12,\t batch = 1200,\t cost = 0.0000,\t accuracy = 1.0\n",
      "Epoch= 12,\t batch = 1400,\t cost = 0.0229,\t accuracy = 1.0\n",
      "Epoch= 12,\t batch = 1600,\t cost = 0.0020,\t accuracy = 1.0\n",
      "Epoch= 12,\t batch = 1800,\t cost = 0.0000,\t accuracy = 1.0\n",
      "[Epoch:   12], averaged cost = 0.0109412167\n",
      "Epoch= 13,\t batch = 0,\t cost = 0.0034,\t accuracy = 1.0\n",
      "Epoch= 13,\t batch = 200,\t cost = 0.0023,\t accuracy = 1.0\n",
      "Epoch= 13,\t batch = 400,\t cost = 0.0020,\t accuracy = 1.0\n",
      "Epoch= 13,\t batch = 600,\t cost = 0.0000,\t accuracy = 1.0\n",
      "Epoch= 13,\t batch = 800,\t cost = 0.0006,\t accuracy = 1.0\n",
      "Epoch= 13,\t batch = 1000,\t cost = 0.0000,\t accuracy = 1.0\n",
      "Epoch= 13,\t batch = 1200,\t cost = 0.0000,\t accuracy = 1.0\n",
      "Epoch= 13,\t batch = 1400,\t cost = 0.0324,\t accuracy = 0.96875\n",
      "Epoch= 13,\t batch = 1600,\t cost = 0.0376,\t accuracy = 0.96875\n",
      "Epoch= 13,\t batch = 1800,\t cost = 0.0000,\t accuracy = 1.0\n",
      "[Epoch:   13], averaged cost = 0.0135558126\n",
      "Epoch= 14,\t batch = 0,\t cost = 0.0010,\t accuracy = 1.0\n",
      "Epoch= 14,\t batch = 200,\t cost = 0.0026,\t accuracy = 1.0\n",
      "Epoch= 14,\t batch = 400,\t cost = 0.0014,\t accuracy = 1.0\n",
      "Epoch= 14,\t batch = 600,\t cost = 0.0000,\t accuracy = 1.0\n",
      "Epoch= 14,\t batch = 800,\t cost = 0.0010,\t accuracy = 1.0\n",
      "Epoch= 14,\t batch = 1000,\t cost = 0.0000,\t accuracy = 1.0\n",
      "Epoch= 14,\t batch = 1200,\t cost = 0.0601,\t accuracy = 0.96875\n",
      "Epoch= 14,\t batch = 1400,\t cost = 0.0754,\t accuracy = 0.96875\n",
      "Epoch= 14,\t batch = 1600,\t cost = 0.0002,\t accuracy = 1.0\n",
      "Epoch= 14,\t batch = 1800,\t cost = 0.0000,\t accuracy = 1.0\n",
      "[Epoch:   14], averaged cost = 0.0118791331\n",
      "Epoch= 15,\t batch = 0,\t cost = 0.0001,\t accuracy = 1.0\n",
      "Epoch= 15,\t batch = 200,\t cost = 0.0016,\t accuracy = 1.0\n",
      "Epoch= 15,\t batch = 400,\t cost = 0.0835,\t accuracy = 0.96875\n",
      "Epoch= 15,\t batch = 600,\t cost = 0.0000,\t accuracy = 1.0\n",
      "Epoch= 15,\t batch = 800,\t cost = 0.0000,\t accuracy = 1.0\n",
      "Epoch= 15,\t batch = 1000,\t cost = 0.0000,\t accuracy = 1.0\n",
      "Epoch= 15,\t batch = 1200,\t cost = 0.0235,\t accuracy = 0.96875\n",
      "Epoch= 15,\t batch = 1400,\t cost = 0.0000,\t accuracy = 1.0\n",
      "Epoch= 15,\t batch = 1600,\t cost = 0.0001,\t accuracy = 1.0\n",
      "Epoch= 15,\t batch = 1800,\t cost = 0.0003,\t accuracy = 1.0\n",
      "[Epoch:   15], averaged cost = 0.0121022807\n",
      "Learning Finished!\n"
     ]
    },
    {
     "ename": "NameError",
     "evalue": "name 'labels' is not defined",
     "output_type": "error",
     "traceback": [
      "\u001b[1;31m---------------------------------------------------------------------------\u001b[0m",
      "\u001b[1;31mNameError\u001b[0m                                 Traceback (most recent call last)",
      "\u001b[1;32m<ipython-input-8-7bb86e0106bb>\u001b[0m in \u001b[0;36m<module>\u001b[1;34m\u001b[0m\n\u001b[0;32m     43\u001b[0m \u001b[0mprint\u001b[0m\u001b[1;33m(\u001b[0m\u001b[1;34m'Learning Finished!'\u001b[0m\u001b[1;33m)\u001b[0m\u001b[1;33m\u001b[0m\u001b[1;33m\u001b[0m\u001b[0m\n\u001b[0;32m     44\u001b[0m \u001b[1;31m#  _, argmax = torch.max(outputs, 1)\u001b[0m\u001b[1;33m\u001b[0m\u001b[1;33m\u001b[0m\u001b[1;33m\u001b[0m\u001b[0m\n\u001b[1;32m---> 45\u001b[1;33m \u001b[0maccuracy\u001b[0m \u001b[1;33m=\u001b[0m \u001b[1;33m(\u001b[0m\u001b[0mlabels\u001b[0m \u001b[1;33m==\u001b[0m \u001b[0margmax\u001b[0m\u001b[1;33m.\u001b[0m\u001b[0msqueeze\u001b[0m\u001b[1;33m(\u001b[0m\u001b[1;33m)\u001b[0m\u001b[1;33m)\u001b[0m\u001b[1;33m.\u001b[0m\u001b[0mfloat\u001b[0m\u001b[1;33m(\u001b[0m\u001b[1;33m)\u001b[0m\u001b[1;33m.\u001b[0m\u001b[0mmean\u001b[0m\u001b[1;33m(\u001b[0m\u001b[1;33m)\u001b[0m\u001b[1;33m\u001b[0m\u001b[1;33m\u001b[0m\u001b[0m\n\u001b[0m",
      "\u001b[1;31mNameError\u001b[0m: name 'labels' is not defined"
     ]
    }
   ],
   "source": [
    "\n",
    "print('Training the Deep Learning network ...')\n",
    "train_cost = []\n",
    "train_accu = []\n",
    "\n",
    "training_epochs = 15\n",
    "total_batch = len(mnist_train) // batch_size\n",
    "\n",
    "print('Size of the training dataset is {}'.format(mnist_train.data.size()))\n",
    "print('Size of the testing dataset is {}'.format(mnist_test.data.size()))\n",
    "print('Batch size is : {}'.format(batch_size))\n",
    "print('Total number of batches is : {0:2.0f}'.format(total_batch))\n",
    "print('\\nTotal number of epochs is : {0:2.0f}'.format(training_epochs))\n",
    "\n",
    "for epoch in range(training_epochs):\n",
    "    avg_cost = 0\n",
    "    for i, (batch_X, batch_Y) in enumerate(data_loader):\n",
    "        X = Variable(batch_X)    # image is already size of (28x28), no reshape\n",
    "        Y = Variable(batch_Y)    # label is not one-hot encoded\n",
    "\n",
    "        optimizer.zero_grad() # <= initialization of the gradients\n",
    "        \n",
    "        # forward propagation\n",
    "        hypothesis = model(X)\n",
    "        cost = criterion(hypothesis, Y) # <= compute the loss function\n",
    "        \n",
    "        # Backward propagation\n",
    "        cost.backward() # <= compute the gradient of the loss/cost function     \n",
    "        optimizer.step() # <= Update the gradients\n",
    "             \n",
    "        # Print some performance to monitor the training\n",
    "        prediction = hypothesis.data.max(dim=1)[1]\n",
    "        train_accu.append(((prediction.data == Y.data).float().mean()).item())\n",
    "        train_cost.append(cost.item())   \n",
    "        if i % 200 == 0:\n",
    "            print(\"Epoch= {},\\t batch = {},\\t cost = {:2.4f},\\t accuracy = {}\".format(epoch+1, i, train_cost[-1], train_accu[-1]))\n",
    "       \n",
    "        avg_cost += cost.data / total_batch\n",
    "\n",
    "    print(\"[Epoch: {:>4}], averaged cost = {:>.9}\".format(epoch + 1, avg_cost.item()))\n",
    "\n",
    "\n",
    "print('Learning Finished!')\n",
    "#  _, argmax = torch.max(outputs, 1)\n",
    "accuracy = (labels == argmax.squeeze()).float().mean()"
   ]
  },
  {
   "cell_type": "code",
   "execution_count": 11,
   "metadata": {},
   "outputs": [
    {
     "data": {
      "text/plain": [
       "(<matplotlib.axes._subplots.AxesSubplot at 0x29f57a1ab00>,\n",
       " [<matplotlib.lines.Line2D at 0x29f57a70630>],\n",
       " (0, 100))"
      ]
     },
     "execution_count": 11,
     "metadata": {},
     "output_type": "execute_result"
    },
    {
     "data": {
      "image/png": "[encoded data removed]",
      "text/plain": [
       "<Figure size 1440x720 with 2 Axes>"
      ]
     },
     "metadata": {
      "needs_background": "light"
     },
     "output_type": "display_data"
    }
   ],
   "source": [
    "from matplotlib import pylab as plt\n",
    "plt.figure(figsize=(20,10))\n",
    "plt.subplot(121), plt.plot(np.arange(len(train_cost)), train_cost), plt.ylim([0,10])\n",
    "plt.subplot(122), plt.plot(np.arange(len(train_accu)), 100 * torch.as_tensor(train_accu).numpy()), plt.ylim([0,100])"
   ]
  },
  {
   "cell_type": "code",
   "execution_count": 12,
   "metadata": {},
   "outputs": [],
   "source": [
    "cost.item?"
   ]
  },
  {
   "cell_type": "code",
   "execution_count": 13,
   "metadata": {},
   "outputs": [
    {
     "name": "stdout",
     "output_type": "stream",
     "text": [
      "\n",
      "Accuracy: 79.81 %\n"
     ]
    }
   ],
   "source": [
    "# Test model and check accuracy\n",
    "model.eval()    # set the model to evaluation mode (dropout=False)\n",
    "\n",
    "X_test = Variable(mnist_test.data.view(len(mnist_test), 1, 28, 28).float())\n",
    "Y_test = Variable(mnist_test.targets)\n",
    "\n",
    "prediction = model(X_test)\n",
    "\n",
    "# Compute accuracy\n",
    "correct_prediction = (torch.max(prediction.data, dim=1)[1] == Y_test.data)\n",
    "accuracy = correct_prediction.float().mean().item()\n",
    "print('\\nAccuracy: {:2.2f} %'.format(accuracy*100))"
   ]
  },
  {
   "cell_type": "code",
   "execution_count": 14,
   "metadata": {},
   "outputs": [
    {
     "data": {
      "image/png": "[encoded data removed]",
      "text/plain": [
       "<Figure size 1080x1080 with 12 Axes>"
      ]
     },
     "metadata": {},
     "output_type": "display_data"
    }
   ],
   "source": [
    "plt.figure(figsize=(15,15), facecolor='white')\n",
    "for i in torch.arange(0,12):\n",
    "  val, idx = torch.max(prediction, dim=1)\n",
    "  plt.subplot(4,4,i+1)  \n",
    "  plt.imshow(X_test[i][0])\n",
    "  plt.title('This image contains: {0:>2} '.format(idx[i].item()))\n",
    "  plt.xticks([]), plt.yticks([])\n",
    "  plt.plt.subplots_adjust()"
   ]
  },
  {
   "cell_type": "code",
   "execution_count": null,
   "metadata": {},
   "outputs": [],
   "source": []
  }
 ],
 "metadata": {
  "kernelspec": {
   "display_name": "Python 3",
   "language": "python",
   "name": "python3"
  },
  "language_info": {
   "codemirror_mode": {
    "name": "ipython",
    "version": 3
   },
   "file_extension": ".py",
   "mimetype": "text/x-python",
   "name": "python",
   "nbconvert_exporter": "python",
   "pygments_lexer": "ipython3",
   "version": "3.7.3"
  }
 },
 "nbformat": 4,
 "nbformat_minor": 2
}
